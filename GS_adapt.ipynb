{
 "cells": [
  {
   "cell_type": "code",
   "execution_count": 254,
   "id": "initial_id",
   "metadata": {
    "collapsed": true,
    "ExecuteTime": {
     "end_time": "2024-08-14T21:31:09.415865400Z",
     "start_time": "2024-08-14T21:31:09.386870700Z"
    }
   },
   "outputs": [],
   "source": [
    "p = 0.0844\n",
    "import numpy as np\n",
    "import torch\n",
    "from scipy.stats import binom\n",
    "import networkx as nx\n",
    "import matplotlib.pyplot as plt"
   ]
  },
  {
   "cell_type": "code",
   "outputs": [],
   "source": [
    "prob = np.load('src/node_dist.npy')"
   ],
   "metadata": {
    "collapsed": false,
    "ExecuteTime": {
     "end_time": "2024-08-14T20:38:35.407178800Z",
     "start_time": "2024-08-14T20:38:35.398180900Z"
    }
   },
   "id": "9021e1186669e766",
   "execution_count": 3
  },
  {
   "cell_type": "code",
   "outputs": [
    {
     "name": "stdout",
     "output_type": "stream",
     "text": [
      "tensor(76)\n"
     ]
    }
   ],
   "source": [
    "node_dist =  torch.distributions.Categorical(torch.tensor(prob))\n",
    "# sample 1 value\n",
    "n = node_dist.sample()\n",
    "print(n)"
   ],
   "metadata": {
    "collapsed": false,
    "ExecuteTime": {
     "end_time": "2024-08-14T20:39:09.430627900Z",
     "start_time": "2024-08-14T20:39:09.382084800Z"
    }
   },
   "id": "334df3191f9e03a3",
   "execution_count": 6
  },
  {
   "cell_type": "code",
   "outputs": [
    {
     "data": {
      "text/plain": "<BarContainer object of 188 artists>"
     },
     "execution_count": 9,
     "metadata": {},
     "output_type": "execute_result"
    },
    {
     "data": {
      "text/plain": "<Figure size 640x480 with 1 Axes>",
      "image/png": "[encoded data removed]"
     },
     "metadata": {},
     "output_type": "display_data"
    }
   ],
   "source": [
    "# draw distribution\n",
    "import matplotlib.pyplot as plt\n",
    "indices = torch.arange(len(prob))\n",
    "plt.bar(indices, prob)"
   ],
   "metadata": {
    "collapsed": false,
    "ExecuteTime": {
     "end_time": "2024-08-13T22:20:00.777855400Z",
     "start_time": "2024-08-13T22:20:00.564693100Z"
    }
   },
   "id": "510051e8e0a82a6c",
   "execution_count": 9
  },
  {
   "cell_type": "code",
   "outputs": [
    {
     "name": "stdout",
     "output_type": "stream",
     "text": [
      "0.8058342941761043 0.002463916978682504\n",
      "-0.03100769195976979 0.004128066448744448\n"
     ]
    }
   ],
   "source": [
    "degree_dist = binom(n-1,p)\n",
    "def get_graph_from_d(dd):\n",
    "    degrees = degree_dist.rvs(n)\n",
    "    while sum(degrees) % 2 != 0:\n",
    "        degrees = dd.rvs(n)\n",
    "    while 1:\n",
    "        try:\n",
    "            G = nx.havel_hakimi_graph(degrees)\n",
    "            break\n",
    "        except nx.exception.NetworkXError:\n",
    "            degrees = dd.rvs(n)\n",
    "    return G\n",
    "\n",
    "degree_assortativity_coefficients1 = []\n",
    "degree_assortativity_coefficients2 = []\n",
    "for i in range(1000):\n",
    "    G = get_graph_from_d(degree_dist)\n",
    "    r = nx.degree_assortativity_coefficient(G)\n",
    "    degree_assortativity_coefficients1.append(r)\n",
    "    ERG = nx.binomial_graph(n, p)\n",
    "    degree_assortativity_coefficients2.append(nx.degree_assortativity_coefficient(ERG))\n",
    "print(np.mean(degree_assortativity_coefficients1), np.var(degree_assortativity_coefficients1))\n",
    "print(np.mean(degree_assortativity_coefficients2), np.var(degree_assortativity_coefficients2))"
   ],
   "metadata": {
    "collapsed": false,
    "ExecuteTime": {
     "end_time": "2024-08-14T23:24:15.768028200Z",
     "start_time": "2024-08-14T23:24:03.705391800Z"
    }
   },
   "id": "a29d3cc27f92c29d",
   "execution_count": 332
  },
  {
   "cell_type": "code",
   "outputs": [
    {
     "name": "stdout",
     "output_type": "stream",
     "text": [
      "0.0\n"
     ]
    }
   ],
   "source": [
    "\"\"\"\n",
    "simulation_time = 100000\n",
    "err_time = 0\n",
    "for i in range(simulation_time):\n",
    "    degrees = degree_dist.rvs(n)\n",
    "    while sum(degrees) % 2 != 0:\n",
    "        degrees = degree_dist.rvs(n)\n",
    "    try:\n",
    "        G = nx.havel_hakimi_graph(degrees)\n",
    "    except nx.exception.NetworkXError:\n",
    "        err_time += 1\n",
    "        \n",
    "print(err_time/simulation_time)\n",
    "\"\"\""
   ],
   "metadata": {
    "collapsed": false,
    "ExecuteTime": {
     "end_time": "2024-08-14T21:20:08.116726400Z",
     "start_time": "2024-08-14T21:19:38.651850500Z"
    }
   },
   "id": "3f5c2372e995d2fa",
   "execution_count": 71
  },
  {
   "cell_type": "code",
   "outputs": [
    {
     "name": "stdout",
     "output_type": "stream",
     "text": [
      "876.3824710000001 481.277\n",
      "871.0020990400002 480.9564\n"
     ]
    },
    {
     "data": {
      "text/plain": "<matplotlib.legend.Legend at 0x7f8f22662880>"
     },
     "execution_count": 452,
     "metadata": {},
     "output_type": "execute_result"
    },
    {
     "data": {
      "text/plain": "<Figure size 640x480 with 1 Axes>",
      "image/png": "[encoded data removed]"
     },
     "metadata": {},
     "output_type": "display_data"
    }
   ],
   "source": [
    "# generate ER random graph\n",
    "rv = binom(n-2, p)\n",
    "rv_offset = binom(1,p)\n",
    "degrees = []\n",
    "\n",
    "degrees2 = []\n",
    "\n",
    "for i in range(10000):\n",
    "    G = nx.binomial_graph(n, p)\n",
    "    degrees.append(sum([G.degree(node) for node in G.nodes()]))\n",
    "    y = rv.rvs(n)\n",
    "    z = rv_offset.rvs()\n",
    "    f = [y[i] + z for i in range(n)]\n",
    "    while sum(f) % 2 != 0:\n",
    "        y = rv.rvs(n)\n",
    "        f = [y[i] + z for i in range(n)]\n",
    "    degrees2.append(sum(f))\n",
    "#histogram\n",
    "plt.hist(degrees, bins=range(350, 600, 1))\n",
    "plt.hist(degrees2, bins=range(350, 600, 1))\n",
    "\n",
    "# print var and mean\n",
    "print(np.var(degrees), np.mean(degrees))\n",
    "print(np.var(degrees2), np.mean(degrees2))\n",
    "# legend\n",
    "plt.legend(['ER', 'degree distribution'])"
   ],
   "metadata": {
    "collapsed": false,
    "ExecuteTime": {
     "end_time": "2024-08-15T01:39:01.617593400Z",
     "start_time": "2024-08-15T01:38:57.405926400Z"
    }
   },
   "id": "ccd4be0d0250708b",
   "execution_count": 452
  },
  {
   "cell_type": "code",
   "outputs": [
    {
     "data": {
      "text/plain": "tensor(880.9537)"
     },
     "execution_count": 377,
     "metadata": {},
     "output_type": "execute_result"
    }
   ],
   "source": [
    "2*(n-1)*n*p*(1-p)"
   ],
   "metadata": {
    "collapsed": false,
    "ExecuteTime": {
     "end_time": "2024-08-15T00:59:18.507215600Z",
     "start_time": "2024-08-15T00:59:18.495213500Z"
    }
   },
   "id": "40a0ca4aedc2b14",
   "execution_count": 377
  },
  {
   "cell_type": "code",
   "outputs": [
    {
     "data": {
      "text/plain": "tensor(481.0800)"
     },
     "execution_count": 434,
     "metadata": {},
     "output_type": "execute_result"
    }
   ],
   "source": [
    "n * (n-1) * p"
   ],
   "metadata": {
    "collapsed": false,
    "ExecuteTime": {
     "end_time": "2024-08-15T01:08:17.351310Z",
     "start_time": "2024-08-15T01:08:17.341795900Z"
    }
   },
   "id": "cc8774c0619930ef",
   "execution_count": 434
  },
  {
   "cell_type": "code",
   "outputs": [
    {
     "name": "stdout",
     "output_type": "stream",
     "text": [
      "777.54161104 844.0836\n",
      "768.40823216 843.3972\n"
     ]
    }
   ],
   "source": [
    "nn = 10000\n",
    "rv = binom(nn-1, p)\n",
    "rds = rv.rvs(nn)\n",
    "while sum(degrees) % 2 != 0:\n",
    "    degrees = rv.rvs(nn)\n",
    "G = nx.binomial_graph(nn, p)\n",
    "gds = [G.degree(node) for node in G.nodes()]\n",
    "\n",
    "\n",
    "print(np.var(rds), np.mean(rds))\n",
    "print(np.var(gds), np.mean(gds))"
   ],
   "metadata": {
    "collapsed": false,
    "ExecuteTime": {
     "end_time": "2024-08-14T22:50:27.613727700Z",
     "start_time": "2024-08-14T22:50:22.495368100Z"
    }
   },
   "id": "e3457dc356f9f19c",
   "execution_count": 329
  },
  {
   "cell_type": "code",
   "outputs": [
    {
     "data": {
      "text/plain": "(array([  0.,   0.,   0.,   0.,   0.,   0.,   0.,   0.,   0.,   0.,   0.,\n          0.,   0.,   0.,   0.,   0.,   0.,   0.,   0.,   0.,   0.,   0.,\n          0.,   0.,   0.,   0.,   0.,   0.,   0.,   0.,   0.,   0.,   0.,\n          0.,   0.,   0.,   0.,   0.,   0.,   0.,   0.,   0.,   0.,   0.,\n          0.,   0.,   0.,   0.,   0.,   0.,   0.,   0.,   0.,   0.,   0.,\n          0.,   0.,   0.,   0.,   0.,   0.,   0.,   0.,   0.,   0.,   0.,\n          0.,   0.,   0.,   0.,   0.,   0.,   0.,   0.,   0.,   0.,   0.,\n          0.,   0.,   0.,   0.,   0.,   0.,   0.,   0.,   0.,   0.,   0.,\n          0.,   0.,   0.,   0.,   0.,   0.,   0.,   0.,   0.,   0.,   0.,\n          0.,   0.,   0.,   0.,   0.,   0.,   0.,   0.,   0.,   0.,   0.,\n          0.,   0.,   0.,   0.,   0.,   0.,   0.,   0.,   0.,   0.,   0.,\n          0.,   0.,   0.,   0.,   0.,   0.,   0.,   0.,   0.,   0.,   0.,\n          0.,   0.,   0.,   0.,   0.,   0.,   0.,   0.,   0.,   0.,   0.,\n          0.,   0.,   0.,   0.,   0.,   0.,   0.,   0.,   0.,   0.,   0.,\n          1.,   0.,   0.,   0.,   0.,   2.,   3.,   2.,   2.,   1.,   1.,\n          4.,   3.,   2.,   1.,   6.,   1.,   2.,   5.,   4.,  11.,   7.,\n          4.,   6.,   6.,   8.,   9.,  16.,  11.,  14.,  11.,  17.,  18.,\n         20.,  25.,  24.,  23.,  20.,  26.,  29.,  29.,  27.,  47.,  39.,\n         35.,  49.,  39.,  53.,  51.,  51.,  45.,  60.,  48.,  81.,  73.,\n         80.,  84.,  69.,  73.,  72.,  73.,  80.,  85.,  90., 104., 101.,\n        103., 107.,  98., 104., 100.,  98., 113., 114., 124., 114., 120.,\n        127., 121., 150., 151., 133., 137., 149., 154., 162., 147., 150.,\n        122., 151., 142., 153., 139., 145., 130., 146., 146., 136., 143.,\n        138., 134., 130., 126., 134., 117., 122., 127., 118., 124., 127.,\n         90.,  95., 116.,  78.,  99.,  74.,  89., 104., 102.,  83.,  67.,\n         67.,  65.,  66.,  70.,  58.,  65.,  54.,  44.,  59.,  44.,  55.,\n         41.,  36.,  37.,  26.,  37.,  43.,  29.,  27.,  24.,  19.,  27.,\n         26.,  27.,  23.,  23.,  17.,  12.,  13.,  10.,  13.,  14.,  10.,\n          8.,   8.,   5.,   9.,   7.,   4.,   5.,   7.,   6.,   3.,   4.,\n          5.,   1.,   8.,   3.,   6.,   4.,   3.,   2.,   0.,   3.,   1.,\n          2.,   1.,   0.,   0.,   1.,   0.,   0.,   2.,   1.,   0.,   0.,\n          1.,   0.,   0.,   0.,   0.,   1.,   0.,   0.,   0.,   1.,   0.,\n          0.,   0.,   1.,   0.,   0.,   0.,   0.,   0.,   0.,   0.,   0.,\n          0.,   0.,   0.,   0.,   0.,   0.,   0.,   0.,   0.,   0.,   0.,\n          0.,   0.,   0.,   0.,   0.,   0.,   0.,   0.,   0.,   0.,   0.,\n          0.,   0.,   0.,   0.,   0.,   0.,   0.,   0.,   0.,   0.,   0.,\n          0.,   0.,   0.]),\n array([600., 601., 602., 603., 604., 605., 606., 607., 608., 609., 610.,\n        611., 612., 613., 614., 615., 616., 617., 618., 619., 620., 621.,\n        622., 623., 624., 625., 626., 627., 628., 629., 630., 631., 632.,\n        633., 634., 635., 636., 637., 638., 639., 640., 641., 642., 643.,\n        644., 645., 646., 647., 648., 649., 650., 651., 652., 653., 654.,\n        655., 656., 657., 658., 659., 660., 661., 662., 663., 664., 665.,\n        666., 667., 668., 669., 670., 671., 672., 673., 674., 675., 676.,\n        677., 678., 679., 680., 681., 682., 683., 684., 685., 686., 687.,\n        688., 689., 690., 691., 692., 693., 694., 695., 696., 697., 698.,\n        699., 700., 701., 702., 703., 704., 705., 706., 707., 708., 709.,\n        710., 711., 712., 713., 714., 715., 716., 717., 718., 719., 720.,\n        721., 722., 723., 724., 725., 726., 727., 728., 729., 730., 731.,\n        732., 733., 734., 735., 736., 737., 738., 739., 740., 741., 742.,\n        743., 744., 745., 746., 747., 748., 749., 750., 751., 752., 753.,\n        754., 755., 756., 757., 758., 759., 760., 761., 762., 763., 764.,\n        765., 766., 767., 768., 769., 770., 771., 772., 773., 774., 775.,\n        776., 777., 778., 779., 780., 781., 782., 783., 784., 785., 786.,\n        787., 788., 789., 790., 791., 792., 793., 794., 795., 796., 797.,\n        798., 799., 800., 801., 802., 803., 804., 805., 806., 807., 808.,\n        809., 810., 811., 812., 813., 814., 815., 816., 817., 818., 819.,\n        820., 821., 822., 823., 824., 825., 826., 827., 828., 829., 830.,\n        831., 832., 833., 834., 835., 836., 837., 838., 839., 840., 841.,\n        842., 843., 844., 845., 846., 847., 848., 849., 850., 851., 852.,\n        853., 854., 855., 856., 857., 858., 859., 860., 861., 862., 863.,\n        864., 865., 866., 867., 868., 869., 870., 871., 872., 873., 874.,\n        875., 876., 877., 878., 879., 880., 881., 882., 883., 884., 885.,\n        886., 887., 888., 889., 890., 891., 892., 893., 894., 895., 896.,\n        897., 898., 899., 900., 901., 902., 903., 904., 905., 906., 907.,\n        908., 909., 910., 911., 912., 913., 914., 915., 916., 917., 918.,\n        919., 920., 921., 922., 923., 924., 925., 926., 927., 928., 929.,\n        930., 931., 932., 933., 934., 935., 936., 937., 938., 939., 940.,\n        941., 942., 943., 944., 945., 946., 947., 948., 949., 950., 951.,\n        952., 953., 954., 955., 956., 957., 958., 959., 960., 961., 962.,\n        963., 964., 965., 966., 967., 968., 969., 970., 971., 972., 973.,\n        974., 975., 976., 977., 978., 979., 980., 981., 982., 983., 984.,\n        985., 986., 987., 988., 989., 990., 991., 992., 993., 994., 995.,\n        996., 997., 998., 999.]),\n <BarContainer object of 399 artists>)"
     },
     "execution_count": 330,
     "metadata": {},
     "output_type": "execute_result"
    },
    {
     "data": {
      "text/plain": "<Figure size 640x480 with 1 Axes>",
      "image/png": "[encoded data removed]"
     },
     "metadata": {},
     "output_type": "display_data"
    }
   ],
   "source": [
    "plt.hist(rds, bins=range(600, 1000, 1))\n",
    "plt.hist(gds, bins=range(600, 1000, 1))"
   ],
   "metadata": {
    "collapsed": false,
    "ExecuteTime": {
     "end_time": "2024-08-14T22:50:43.822940Z",
     "start_time": "2024-08-14T22:50:43.374383300Z"
    }
   },
   "id": "1af473d9aedacebd",
   "execution_count": 330
  },
  {
   "cell_type": "code",
   "outputs": [
    {
     "name": "stdout",
     "output_type": "stream",
     "text": [
      "883.4010439100001 480.7603\n"
     ]
    }
   ],
   "source": [
    "rv_x = binom(n-2, p)\n",
    "rv_z = binom(1,p)\n",
    "Y = []\n",
    "\n",
    "for i in range(10000):\n",
    "    y = rv_x.rvs(n)\n",
    "    z = rv_z.rvs()\n",
    "    f = [y[i] + z for i in range(n)]\n",
    "    Y.append(sum(f))\n",
    "    \n",
    "print(np.var(Y), np.mean(Y))"
   ],
   "metadata": {
    "collapsed": false,
    "ExecuteTime": {
     "end_time": "2024-08-15T01:37:01.775360900Z",
     "start_time": "2024-08-15T01:37:01.142469900Z"
    }
   },
   "id": "324bfb1be2c5c6e",
   "execution_count": 450
  }
 ],
 "metadata": {
  "kernelspec": {
   "display_name": "Python 3",
   "language": "python",
   "name": "python3"
  },
  "language_info": {
   "codemirror_mode": {
    "name": "ipython",
    "version": 2
   },
   "file_extension": ".py",
   "mimetype": "text/x-python",
   "name": "python",
   "nbconvert_exporter": "python",
   "pygments_lexer": "ipython2",
   "version": "2.7.6"
  }
 },
 "nbformat": 4,
 "nbformat_minor": 5
}
