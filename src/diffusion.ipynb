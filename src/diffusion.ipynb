{
 "cells": [
  {
   "cell_type": "code",
   "outputs": [
    {
     "name": "stderr",
     "output_type": "stream",
     "text": [
      "<frozen importlib._bootstrap>:228: RuntimeWarning: to-Python converter for std::pair<double, double> already registered; second conversion method ignored.\n"
     ]
    }
   ],
   "source": [
    "import graph_tool as gt\n",
    "import torch\n",
    "import pickle\n",
    "from src.diffusion_model_discrete import DiscreteDenoisingDiffusion\n",
    "from sample import get_model_sbm\n",
    "from src.diffusion import diffusion_utils\n",
    "import networkx as nx\n",
    "import matplotlib.pyplot as plt\n",
    "from src.analysis.visualization import NonMolecularVisualization\n",
    "import torch.nn.functional as F"
   ],
   "metadata": {
    "collapsed": false,
    "ExecuteTime": {
     "end_time": "2024-08-25T21:50:38.075956Z",
     "start_time": "2024-08-25T21:50:34.062179800Z"
    }
   },
   "id": "initial_id",
   "execution_count": 1
  },
  {
   "cell_type": "code",
   "outputs": [
    {
     "name": "stderr",
     "output_type": "stream",
     "text": [
      "\n",
      "(ipykernel_launcher.py:156978): Gtk-WARNING **: 23:50:38.545: Locale not supported by C library.\n",
      "\tUsing the fallback 'C' locale.\n",
      "/home/renyi/anaconda3/envs/digress/lib/python3.9/site-packages/torch/nn/init.py:405: UserWarning: Initializing zero-element tensors is a no-op\n",
      "  warnings.warn(\"Initializing zero-element tensors is a no-op\")\n"
     ]
    },
    {
     "name": "stdout",
     "output_type": "stream",
     "text": [
      "Marginal distribution of the classes: tensor([1.]) for nodes, tensor([0.9156, 0.0844]) for edges\n"
     ]
    }
   ],
   "source": [
    "model = get_model_sbm()"
   ],
   "metadata": {
    "collapsed": false,
    "ExecuteTime": {
     "end_time": "2024-08-25T21:51:15.333975100Z",
     "start_time": "2024-08-25T21:50:38.069955Z"
    }
   },
   "id": "7e4aafef99e14f4",
   "execution_count": 2
  },
  {
   "cell_type": "code",
   "outputs": [
    {
     "name": "stdout",
     "output_type": "stream",
     "text": [
      "tensor([104], device='cuda:0')\n"
     ]
    }
   ],
   "source": [
    "batch_size = 1\n",
    "n_nodes = model.node_dist.sample_n(batch_size, model.device)\n",
    "print(n_nodes)"
   ],
   "metadata": {
    "collapsed": false,
    "ExecuteTime": {
     "end_time": "2024-08-25T21:51:15.351814Z",
     "start_time": "2024-08-25T21:51:15.336033Z"
    }
   },
   "id": "e4561a1d108a03c",
   "execution_count": 3
  },
  {
   "cell_type": "code",
   "outputs": [
    {
     "name": "stdout",
     "output_type": "stream",
     "text": [
      "torch.Size([1, 104])\n"
     ]
    }
   ],
   "source": [
    "node_mask = torch.ones((batch_size, n_nodes.item()), device=model.device, dtype=torch.bool)\n",
    "print(node_mask.shape)\n"
   ],
   "metadata": {
    "collapsed": false,
    "ExecuteTime": {
     "end_time": "2024-08-25T21:51:15.382087900Z",
     "start_time": "2024-08-25T21:51:15.365742200Z"
    }
   },
   "id": "2f855c4953de82d1",
   "execution_count": 4
  },
  {
   "cell_type": "code",
   "outputs": [
    {
     "name": "stdout",
     "output_type": "stream",
     "text": [
      "torch.Size([1, 104, 104, 2])\n"
     ]
    }
   ],
   "source": [
    "z_T = diffusion_utils.sample_discrete_feature_noise_with_message(limit_dist=model.limit_dist, node_mask=node_mask)\n",
    "X, E, y = z_T.X, z_T.E, z_T.y\n",
    "print(E.size())"
   ],
   "metadata": {
    "collapsed": false,
    "ExecuteTime": {
     "end_time": "2024-08-25T21:51:15.682865600Z",
     "start_time": "2024-08-25T21:51:15.372850900Z"
    }
   },
   "id": "4c19dc5ddf2ca006",
   "execution_count": 5
  },
  {
   "cell_type": "code",
   "outputs": [],
   "source": [
    "def to_networknx(E):\n",
    "    adj_matrix = torch.argmax(E, dim=-1).squeeze(0).cpu().numpy()\n",
    "    G = nx.from_numpy_matrix(adj_matrix)\n",
    "   # pos = nx.circular_layout(G)\n",
    "   # nx.draw(G, pos, with_labels=False)\n",
    "    return G\n",
    "    "
   ],
   "metadata": {
    "collapsed": false,
    "ExecuteTime": {
     "end_time": "2024-08-25T21:51:15.683865900Z",
     "start_time": "2024-08-25T21:51:15.677865700Z"
    }
   },
   "id": "abc413594a660661",
   "execution_count": 6
  },
  {
   "cell_type": "code",
   "outputs": [
    {
     "name": "stderr",
     "output_type": "stream",
     "text": [
      "<class 'networkx.utils.decorators.argmap'> compilation 28:4: FutureWarning: normalized_laplacian_matrix will return a scipy.sparse array instead of a matrix in Networkx 3.0.\n",
      "/mnt/c/repo/watermark-graph-diffusion/src/analysis/visualization.py:182: UserWarning: This figure includes Axes that are not compatible with tight_layout, so results might be incorrect.\n",
      "  plt.tight_layout()\n"
     ]
    }
   ],
   "source": [
    "visualizer = NonMolecularVisualization()\n",
    "visualizer.visualize_non_molecule(to_networknx(E), None, \"Z_T.png\")"
   ],
   "metadata": {
    "collapsed": false,
    "ExecuteTime": {
     "end_time": "2024-08-25T21:51:15.902809Z",
     "start_time": "2024-08-25T21:51:15.681865600Z"
    }
   },
   "id": "4a37beed34fbb39a",
   "execution_count": 7
  },
  {
   "cell_type": "code",
   "outputs": [],
   "source": [
    "def visualize_graph_batch(l):\n",
    "    plt.figure(figsize=(30, 6 * (len(l) // 5 + 1))) \n",
    "    for i, (step, E) in enumerate(l):\n",
    "        plt.subplot(len(l) // 5 + 1, 5, i + 1)\n",
    "        adj_matrix = torch.argmax(E, dim=-1).squeeze(0).cpu().numpy()\n",
    "        G = nx.from_numpy_matrix(adj_matrix)\n",
    "        pos = nx.circular_layout(G)\n",
    "        nx.draw(G, pos, with_labels=False)\n",
    "        plt.title(f'Step {step}')\n",
    "    plt.tight_layout() \n",
    "    plt.show() "
   ],
   "metadata": {
    "collapsed": false,
    "ExecuteTime": {
     "end_time": "2024-08-25T21:51:15.903809700Z",
     "start_time": "2024-08-25T21:51:15.896806500Z"
    }
   },
   "id": "6fc4e1e0d1267764",
   "execution_count": 8
  },
  {
   "cell_type": "code",
   "outputs": [],
   "source": [
    "def get_partial_result(s_ideal):    \n",
    "    l = []\n",
    "    z_T = diffusion_utils.sample_discrete_feature_noise_with_message(limit_dist=model.limit_dist, node_mask=node_mask)\n",
    "    X, E, y = z_T.X, z_T.E, z_T.y\n",
    "    for s_int in reversed(range(0, model.T)):\n",
    "        s_array = s_int * torch.ones((batch_size, 1)).type_as(y)\n",
    "        t_array = s_array + 1\n",
    "        s_norm = s_array / model.T\n",
    "        t_norm = t_array / model.T\n",
    "        if torch.allclose(s_norm, s_ideal):\n",
    "            return X,E,y\n",
    "        sampled_s, _ = model.sample_p_zs_given_zt(s_norm, t_norm, X, E, y, node_mask)\n",
    "        X, E, y = sampled_s.X, sampled_s.E, sampled_s.y\n",
    "        if s_int % 50 == 0:\n",
    "            l.append((s_int, E))\n",
    "            visualizer.visualize_non_molecule(to_networknx(E), None, f\"chains/Z_{s_int}.png\")"
   ],
   "metadata": {
    "collapsed": false,
    "ExecuteTime": {
     "end_time": "2024-08-25T21:51:15.913321600Z",
     "start_time": "2024-08-25T21:51:15.902809Z"
    }
   },
   "id": "18cae7c0b03c1076",
   "execution_count": 9
  },
  {
   "cell_type": "code",
   "outputs": [],
   "source": [
    "s = torch.tensor([[0.9540]]).to('cuda')\n",
    "t = torch.tensor([[0.9560]]).to('cuda')\n",
    "X_t, E_t, y_t = get_partial_result(s)"
   ],
   "metadata": {
    "collapsed": false,
    "ExecuteTime": {
     "end_time": "2024-08-25T21:51:16.716476800Z",
     "start_time": "2024-08-25T21:51:15.913321600Z"
    }
   },
   "id": "75b399c27a422465",
   "execution_count": 10
  },
  {
   "cell_type": "code",
   "outputs": [
    {
     "name": "stdout",
     "output_type": "stream",
     "text": [
      "tensor([[0.0849]], device='cuda:0')\n"
     ]
    }
   ],
   "source": [
    "bs, n, dxs = X_t.shape\n",
    "beta_t = model.noise_schedule(t_normalized=t)\n",
    "print(beta_t)"
   ],
   "metadata": {
    "collapsed": false,
    "ExecuteTime": {
     "end_time": "2024-08-25T21:51:16.741977300Z",
     "start_time": "2024-08-25T21:51:16.719196300Z"
    }
   },
   "id": "147af36480335dec",
   "execution_count": 11
  },
  {
   "cell_type": "code",
   "outputs": [],
   "source": [
    "alpha_s_bar = model.noise_schedule.get_alpha_bar(t_normalized=s)\n",
    "alpha_t_bar = model.noise_schedule.get_alpha_bar(t_normalized=t)\n",
    "# Retrieve transitions matrix\n",
    "Qtb = model.transition_model.get_Qt_bar(alpha_t_bar, model.device)\n",
    "Qsb = model.transition_model.get_Qt_bar(alpha_s_bar, model.device)\n",
    "Qt = model.transition_model.get_Qt(beta_t, model.device)"
   ],
   "metadata": {
    "collapsed": false,
    "ExecuteTime": {
     "end_time": "2024-08-25T21:51:16.750482100Z",
     "start_time": "2024-08-25T21:51:16.741977300Z"
    }
   },
   "id": "86bd190b2421857a",
   "execution_count": 12
  },
  {
   "cell_type": "code",
   "outputs": [
    {
     "name": "stdout",
     "output_type": "stream",
     "text": [
      "torch.Size([1, 104, 6])\n",
      "torch.Size([1, 104, 104, 0])\n"
     ]
    }
   ],
   "source": [
    "noisy_data = {'X_t': X_t, 'E_t': E_t, 'y_t': y_t, 't': t, 'node_mask': node_mask}\n",
    "extra_data = model.compute_extra_data(noisy_data)\n",
    "print(extra_data.X.size())\n",
    "print(extra_data.E.size())"
   ],
   "metadata": {
    "collapsed": false,
    "ExecuteTime": {
     "end_time": "2024-08-25T21:51:16.763076Z",
     "start_time": "2024-08-25T21:51:16.745990500Z"
    }
   },
   "id": "bced353930dd9ada",
   "execution_count": 13
  },
  {
   "cell_type": "code",
   "outputs": [
    {
     "name": "stdout",
     "output_type": "stream",
     "text": [
      "tensor([[[[0.5000, 0.5000],\n",
      "          [0.9095, 0.0905],\n",
      "          [0.9093, 0.0907],\n",
      "          ...,\n",
      "          [0.9094, 0.0906],\n",
      "          [0.9094, 0.0906],\n",
      "          [0.9094, 0.0906]],\n",
      "\n",
      "         [[0.9095, 0.0905],\n",
      "          [0.5000, 0.5000],\n",
      "          [0.9088, 0.0912],\n",
      "          ...,\n",
      "          [0.9089, 0.0911],\n",
      "          [0.9089, 0.0911],\n",
      "          [0.9089, 0.0911]],\n",
      "\n",
      "         [[0.9093, 0.0907],\n",
      "          [0.9088, 0.0912],\n",
      "          [0.5000, 0.5000],\n",
      "          ...,\n",
      "          [0.9086, 0.0914],\n",
      "          [0.9086, 0.0914],\n",
      "          [0.9068, 0.0932]],\n",
      "\n",
      "         ...,\n",
      "\n",
      "         [[0.9094, 0.0906],\n",
      "          [0.9089, 0.0911],\n",
      "          [0.9086, 0.0914],\n",
      "          ...,\n",
      "          [0.5000, 0.5000],\n",
      "          [0.9087, 0.0913],\n",
      "          [0.9087, 0.0913]],\n",
      "\n",
      "         [[0.9094, 0.0906],\n",
      "          [0.9089, 0.0911],\n",
      "          [0.9086, 0.0914],\n",
      "          ...,\n",
      "          [0.9087, 0.0913],\n",
      "          [0.5000, 0.5000],\n",
      "          [0.9087, 0.0913]],\n",
      "\n",
      "         [[0.9094, 0.0906],\n",
      "          [0.9089, 0.0911],\n",
      "          [0.9068, 0.0932],\n",
      "          ...,\n",
      "          [0.9087, 0.0913],\n",
      "          [0.9087, 0.0913],\n",
      "          [0.5000, 0.5000]]]], device='cuda:0', grad_fn=<SoftmaxBackward0>)\n"
     ]
    }
   ],
   "source": [
    "pred = model.forward(noisy_data, extra_data, node_mask)\n",
    "pred_X = F.softmax(pred.X, dim=-1)          \n",
    "pred_E = F.softmax(pred.E, dim=-1)\n",
    "print(pred_E)"
   ],
   "metadata": {
    "collapsed": false,
    "ExecuteTime": {
     "end_time": "2024-08-25T21:51:16.794358700Z",
     "start_time": "2024-08-25T21:51:16.761073200Z"
    }
   },
   "id": "7c7f5d4c8f3c6021",
   "execution_count": 14
  },
  {
   "cell_type": "code",
   "outputs": [],
   "source": [
    "p_s_and_t_given_0_X = diffusion_utils.compute_batched_over0_posterior_distribution(X_t=X_t,\n",
    "                                                                                           Qt=Qt.X,\n",
    "                                                                                           Qsb=Qsb.X,\n",
    "                                                                                           Qtb=Qtb.X)\n",
    "\n",
    "p_s_and_t_given_0_E = diffusion_utils.compute_batched_over0_posterior_distribution(X_t=E_t,\n",
    "                                                                                           Qt=Qt.E,\n",
    "                                                                                           Qsb=Qsb.E,\n",
    "                                                                                           Qtb=Qtb.E)"
   ],
   "metadata": {
    "collapsed": false,
    "ExecuteTime": {
     "end_time": "2024-08-25T21:51:16.794358700Z",
     "start_time": "2024-08-25T21:51:16.790359100Z"
    }
   },
   "id": "cb5b8691fcede06d",
   "execution_count": 15
  },
  {
   "cell_type": "code",
   "outputs": [],
   "source": [
    "# Dim of these two tensors: bs, N, d0, d_t-1\n",
    "weighted_X = pred_X.unsqueeze(-1) * p_s_and_t_given_0_X         # bs, n, d0, d_t-1\n",
    "unnormalized_prob_X = weighted_X.sum(dim=2)                     # bs, n, d_t-1\n",
    "unnormalized_prob_X[torch.sum(unnormalized_prob_X, dim=-1) == 0] = 1e-5\n",
    "prob_X = unnormalized_prob_X / torch.sum(unnormalized_prob_X, dim=-1, keepdim=True)  # bs, n, d_t-1\n",
    "\n",
    "pred_E = pred_E.reshape((bs, -1, pred_E.shape[-1]))\n",
    "weighted_E = pred_E.unsqueeze(-1) * p_s_and_t_given_0_E        # bs, N, d0, d_t-1\n",
    "unnormalized_prob_E = weighted_E.sum(dim=-2)\n",
    "unnormalized_prob_E[torch.sum(unnormalized_prob_E, dim=-1) == 0] = 1e-5\n",
    "prob_E = unnormalized_prob_E / torch.sum(unnormalized_prob_E, dim=-1, keepdim=True)\n",
    "prob_E = prob_E.reshape(bs, n, n, pred_E.shape[-1])\n",
    "\n",
    "assert ((prob_X.sum(dim=-1) - 1).abs() < 1e-4).all()\n",
    "assert ((prob_E.sum(dim=-1) - 1).abs() < 1e-4).all()"
   ],
   "metadata": {
    "collapsed": false,
    "ExecuteTime": {
     "end_time": "2024-08-25T21:51:16.805359800Z",
     "start_time": "2024-08-25T21:51:16.795359900Z"
    }
   },
   "id": "70421ffa4d9dfa24",
   "execution_count": 16
  },
  {
   "cell_type": "code",
   "outputs": [
    {
     "name": "stdout",
     "output_type": "stream",
     "text": [
      "True\n"
     ]
    }
   ],
   "source": [
    "\n",
    "E1 = diffusion_utils.sample_discrete_features(prob_X.clone(), prob_E.clone(), node_mask=node_mask, seed=42).E\n",
    "E2 = diffusion_utils.sample_discrete_features(prob_X.clone(), prob_E.clone(), node_mask=node_mask, seed=42).E\n",
    "\n",
    "print(torch.equal(E1, E2))"
   ],
   "metadata": {
    "collapsed": false,
    "ExecuteTime": {
     "end_time": "2024-08-25T21:51:16.825361100Z",
     "start_time": "2024-08-25T21:51:16.805359800Z"
    }
   },
   "id": "5f5eb549b6ec0d89",
   "execution_count": 17
  },
  {
   "cell_type": "code",
   "outputs": [],
   "source": [
    "def sample_p_zs_given_zt(self, s, t, X_t, E_t, y_t, node_mask):\n",
    "    \"\"\"Samples from zs ~ p(zs | zt). Only used during sampling.\n",
    "       if last_step, return the graph prediction as well\"\"\"\n",
    "    bs, n, dxs = X_t.shape\n",
    "    beta_t = self.noise_schedule(t_normalized=t)  # (bs, 1)\n",
    "    alpha_s_bar = self.noise_schedule.get_alpha_bar(t_normalized=s)\n",
    "    alpha_t_bar = self.noise_schedule.get_alpha_bar(t_normalized=t)\n",
    "\n",
    "    # Retrieve transitions matrix\n",
    "    Qtb = self.transition_model.get_Qt_bar(alpha_t_bar, self.device)\n",
    "    Qsb = self.transition_model.get_Qt_bar(alpha_s_bar, self.device)\n",
    "    Qt = self.transition_model.get_Qt(beta_t, self.device)\n",
    "\n",
    "    # Neural net predictions\n",
    "    noisy_data = {'X_t': X_t, 'E_t': E_t, 'y_t': y_t, 't': t, 'node_mask': node_mask}\n",
    "    extra_data = self.compute_extra_data(noisy_data)\n",
    "    pred = self.forward(noisy_data, extra_data, node_mask)\n",
    "\n",
    "    # Normalize predictions\n",
    "    pred_X = F.softmax(pred.X, dim=-1)               # bs, n, d0\n",
    "    pred_E = F.softmax(pred.E, dim=-1)               # bs, n, n, d0\n",
    "\n",
    "    p_s_and_t_given_0_X = diffusion_utils.compute_batched_over0_posterior_distribution(X_t=X_t,\n",
    "                                                                                       Qt=Qt.X,\n",
    "                                                                                       Qsb=Qsb.X,\n",
    "                                                                                       Qtb=Qtb.X)\n",
    "\n",
    "    p_s_and_t_given_0_E = diffusion_utils.compute_batched_over0_posterior_distribution(X_t=E_t,\n",
    "                                                                                       Qt=Qt.E,\n",
    "                                                                                       Qsb=Qsb.E,\n",
    "                                                                                       Qtb=Qtb.E)\n",
    "    # Dim of these two tensors: bs, N, d0, d_t-1\n",
    "    weighted_X = pred_X.unsqueeze(-1) * p_s_and_t_given_0_X         # bs, n, d0, d_t-1\n",
    "    unnormalized_prob_X = weighted_X.sum(dim=2)                     # bs, n, d_t-1\n",
    "    unnormalized_prob_X[torch.sum(unnormalized_prob_X, dim=-1) == 0] = 1e-5\n",
    "    prob_X = unnormalized_prob_X / torch.sum(unnormalized_prob_X, dim=-1, keepdim=True)  # bs, n, d_t-1\n",
    "\n",
    "    pred_E = pred_E.reshape((bs, -1, pred_E.shape[-1]))\n",
    "    weighted_E = pred_E.unsqueeze(-1) * p_s_and_t_given_0_E        # bs, N, d0, d_t-1\n",
    "    unnormalized_prob_E = weighted_E.sum(dim=-2)\n",
    "    unnormalized_prob_E[torch.sum(unnormalized_prob_E, dim=-1) == 0] = 1e-5\n",
    "    prob_E = unnormalized_prob_E / torch.sum(unnormalized_prob_E, dim=-1, keepdim=True)\n",
    "    prob_E = prob_E.reshape(bs, n, n, pred_E.shape[-1])\n",
    "\n",
    "    assert ((prob_X.sum(dim=-1) - 1).abs() < 1e-4).all()\n",
    "    assert ((prob_E.sum(dim=-1) - 1).abs() < 1e-4).all()\n",
    "\n",
    "    sampled_s = diffusion_utils.sample_discrete_features(prob_X, prob_E, node_mask=node_mask)\n",
    "\n",
    "    X_s = F.one_hot(sampled_s.X, num_classes=self.Xdim_output).float()\n",
    "    E_s = F.one_hot(sampled_s.E, num_classes=self.Edim_output).float()\n",
    "    assert (E_s == torch.transpose(E_s, 1, 2)).all()\n",
    "    assert (X_t.shape == X_s.shape) and (E_t.shape == E_s.shape)\n",
    "\n",
    "    out_one_hot = utils.PlaceHolder(X=X_s, E=E_s, y=torch.zeros(y_t.shape[0], 0))\n",
    "    out_discrete = utils.PlaceHolder(X=X_s, E=E_s, y=torch.zeros(y_t.shape[0], 0))\n",
    "\n",
    "    return out_one_hot.mask(node_mask).type_as(y_t), out_discrete.mask(node_mask, collapse=True).type_as(y_t)"
   ],
   "metadata": {
    "collapsed": false,
    "ExecuteTime": {
     "end_time": "2024-08-25T21:51:16.826359300Z",
     "start_time": "2024-08-25T21:51:16.823361400Z"
    }
   },
   "id": "786793d19050e49e",
   "execution_count": 18
  }
 ],
 "metadata": {
  "kernelspec": {
   "display_name": "Python 3",
   "language": "python",
   "name": "python3"
  },
  "language_info": {
   "codemirror_mode": {
    "name": "ipython",
    "version": 2
   },
   "file_extension": ".py",
   "mimetype": "text/x-python",
   "name": "python",
   "nbconvert_exporter": "python",
   "pygments_lexer": "ipython2",
   "version": "2.7.6"
  }
 },
 "nbformat": 4,
 "nbformat_minor": 5
}
