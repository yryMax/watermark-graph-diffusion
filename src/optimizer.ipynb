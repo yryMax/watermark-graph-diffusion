{
 "cells": [
  {
   "cell_type": "code",
   "execution_count": 1,
   "id": "initial_id",
   "metadata": {
    "collapsed": true,
    "ExecuteTime": {
     "end_time": "2024-08-27T00:13:41.067216100Z",
     "start_time": "2024-08-27T00:13:36.535192Z"
    }
   },
   "outputs": [
    {
     "name": "stderr",
     "output_type": "stream",
     "text": [
      "<frozen importlib._bootstrap>:228: RuntimeWarning: to-Python converter for std::pair<double, double> already registered; second conversion method ignored.\n"
     ]
    }
   ],
   "source": [
    "import graph_tool as gt\n",
    "import torch\n",
    "import pickle\n",
    "from src.diffusion_model_discrete import DiscreteDenoisingDiffusion\n",
    "from sample import get_model_sbm\n",
    "from src.diffusion import diffusion_utils\n",
    "import networkx as nx\n",
    "import matplotlib.pyplot as plt\n",
    "from src.analysis.visualization import NonMolecularVisualization\n",
    "import torch.nn.functional as F"
   ]
  },
  {
   "cell_type": "code",
   "outputs": [
    {
     "name": "stderr",
     "output_type": "stream",
     "text": [
      "\n",
      "(ipykernel_launcher.py:39755): Gtk-WARNING **: 02:15:52.668: Locale not supported by C library.\n",
      "\tUsing the fallback 'C' locale.\n",
      "/home/renyi/anaconda3/envs/digress/lib/python3.9/site-packages/torch/nn/init.py:405: UserWarning: Initializing zero-element tensors is a no-op\n",
      "  warnings.warn(\"Initializing zero-element tensors is a no-op\")\n"
     ]
    },
    {
     "name": "stdout",
     "output_type": "stream",
     "text": [
      "Marginal distribution of the classes: tensor([1.]) for nodes, tensor([0.9156, 0.0844]) for edges\n"
     ]
    }
   ],
   "source": [
    "model = get_model_sbm()"
   ],
   "metadata": {
    "collapsed": false,
    "ExecuteTime": {
     "end_time": "2024-08-27T00:16:24.240086500Z",
     "start_time": "2024-08-27T00:15:52.097964600Z"
    }
   },
   "id": "d24b3e57394eef6",
   "execution_count": 2
  },
  {
   "cell_type": "code",
   "outputs": [],
   "source": [
    "G_t = model.sample_G_T()"
   ],
   "metadata": {
    "collapsed": false,
    "ExecuteTime": {
     "end_time": "2024-08-27T00:17:45.585027Z",
     "start_time": "2024-08-27T00:17:45.113759300Z"
    }
   },
   "id": "18b3348bd8189f8f",
   "execution_count": 4
  },
  {
   "cell_type": "code",
   "outputs": [],
   "source": [
    "_, e1 = model.sample_one(G_t)\n",
    "_, e2 = model.sample_one(G_t)\n",
    "assert torch.equal(e2, e1)"
   ],
   "metadata": {
    "collapsed": false,
    "ExecuteTime": {
     "end_time": "2024-08-27T00:18:09.207363Z",
     "start_time": "2024-08-27T00:17:47.435890900Z"
    }
   },
   "id": "14756c80c8f9da1c",
   "execution_count": 5
  }
 ],
 "metadata": {
  "kernelspec": {
   "display_name": "Python 3",
   "language": "python",
   "name": "python3"
  },
  "language_info": {
   "codemirror_mode": {
    "name": "ipython",
    "version": 2
   },
   "file_extension": ".py",
   "mimetype": "text/x-python",
   "name": "python",
   "nbconvert_exporter": "python",
   "pygments_lexer": "ipython2",
   "version": "2.7.6"
  }
 },
 "nbformat": 4,
 "nbformat_minor": 5
}
