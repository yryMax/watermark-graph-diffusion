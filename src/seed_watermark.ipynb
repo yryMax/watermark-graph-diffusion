{
 "cells": [
  {
   "cell_type": "code",
   "execution_count": 2,
   "id": "initial_id",
   "metadata": {
    "collapsed": true,
    "ExecuteTime": {
     "end_time": "2024-08-30T18:31:13.304737500Z",
     "start_time": "2024-08-30T18:31:13.299739200Z"
    }
   },
   "outputs": [],
   "source": [
    "import graph_tool as gt\n",
    "import torch\n",
    "import pickle\n",
    "from src.diffusion_model_discrete import DiscreteDenoisingDiffusion\n",
    "from sample import *\n",
    "from src.diffusion import diffusion_utils\n",
    "import networkx as nx\n",
    "import matplotlib.pyplot as plt\n",
    "from src.analysis.visualization import NonMolecularVisualization\n",
    "import torch.nn.functional as F\n",
    "import numpy as np\n",
    "import pickle"
   ]
  },
  {
   "cell_type": "code",
   "outputs": [
    {
     "name": "stderr",
     "output_type": "stream",
     "text": [
      "\n",
      "(ipykernel_launcher.py:158003): Gtk-WARNING **: 20:31:21.763: Locale not supported by C library.\n",
      "\tUsing the fallback 'C' locale.\n",
      "/home/renyi/anaconda3/envs/digress/lib/python3.9/site-packages/torch/nn/init.py:405: UserWarning: Initializing zero-element tensors is a no-op\n",
      "  warnings.warn(\"Initializing zero-element tensors is a no-op\")\n"
     ]
    },
    {
     "name": "stdout",
     "output_type": "stream",
     "text": [
      "Marginal distribution of the classes: tensor([1.]) for nodes, tensor([0.7001, 0.2999]) for edges\n"
     ]
    }
   ],
   "source": [
    "model = get_model_facebook()"
   ],
   "metadata": {
    "collapsed": false,
    "ExecuteTime": {
     "end_time": "2024-08-30T18:31:25.690328500Z",
     "start_time": "2024-08-30T18:31:17.852100400Z"
    }
   },
   "id": "7f53a4a3c3721e94",
   "execution_count": 3
  },
  {
   "cell_type": "code",
   "outputs": [
    {
     "name": "stderr",
     "output_type": "stream",
     "text": [
      "100%|██████████| 40/40 [21:23<00:00, 32.10s/it]\n"
     ]
    }
   ],
   "source": [
    "#samples , states = model.sample_batch_simplified(\"watermark\", 40)\n",
    "# dump samples\n",
    "#with open(\"../samples/watermarked.pkl\", \"wb\") as f:\n",
    "#    pickle.dump(samples, f)"
   ],
   "metadata": {
    "collapsed": false,
    "ExecuteTime": {
     "end_time": "2024-08-30T15:48:37.951812Z",
     "start_time": "2024-08-30T15:27:14.068841300Z"
    }
   },
   "id": "4803ffd1f2371550",
   "execution_count": 7
  },
  {
   "cell_type": "code",
   "outputs": [
    {
     "name": "stderr",
     "output_type": "stream",
     "text": [
      "100%|██████████| 40/40 [21:13<00:00, 31.84s/it]\n"
     ]
    }
   ],
   "source": [
    "#samples , states = model.sample_batch_simplified(None, 40)\n",
    "# dump samples\n",
    "#with open(\"../samples/no-watermark.pkl\", \"wb\") as f:\n",
    "#    pickle.dump(samples, f)"
   ],
   "metadata": {
    "collapsed": false,
    "ExecuteTime": {
     "end_time": "2024-08-30T16:10:54.674878400Z",
     "start_time": "2024-08-30T15:49:41.212116800Z"
    }
   },
   "id": "89a1e1dd7ebb1c97",
   "execution_count": 8
  },
  {
   "cell_type": "code",
   "outputs": [],
   "source": [
    "with open(\"../samples/no-watermark.pkl\", \"rb\") as f:\n",
    "    free = pickle.load(f) \n",
    "    \n",
    "with open(\"../samples/watermarked.pkl\", \"rb\") as f:\n",
    "    watermark = pickle.load(f) "
   ],
   "metadata": {
    "collapsed": false,
    "ExecuteTime": {
     "end_time": "2024-08-30T18:31:50.044839Z",
     "start_time": "2024-08-30T18:31:49.948112900Z"
    }
   },
   "id": "af91196d3125df64",
   "execution_count": 5
  },
  {
   "cell_type": "code",
   "outputs": [
    {
     "name": "stdout",
     "output_type": "stream",
     "text": [
      "Computing sampling metrics between 40 generated graphs and 40 test graphs -- emd computation: False\n",
      "Building networkx graphs...\n",
      "Computing degree stats..\n",
      "Computing spectre stats...\n"
     ]
    },
    {
     "name": "stderr",
     "output_type": "stream",
     "text": [
      "<class 'networkx.utils.decorators.argmap'> compilation 8:4: FutureWarning: normalized_laplacian_matrix will return a scipy.sparse array instead of a matrix in Networkx 3.0.\n"
     ]
    },
    {
     "name": "stdout",
     "output_type": "stream",
     "text": [
      "Computing clustering stats...\n",
      "Computing orbit stats...\n",
      "Computing all fractions...\n",
      "Sampling statistics {'degree': 0.03832293998051273, 'spectre': 0.020752221615917055, 'clustering': 0.050003158272127556, 'orbit': 0.05079044712598372, 'sampling/frac_unique': 1.0, 'sampling/frac_unique_non_iso': 1.0, 'sampling/frac_unic_non_iso_valid': 0.0, 'sampling/frac_non_iso': 1.0}\n"
     ]
    },
    {
     "data": {
      "text/plain": "{'degree': 0.03832293998051273,\n 'spectre': 0.020752221615917055,\n 'clustering': 0.050003158272127556,\n 'orbit': 0.05079044712598372,\n 'sampling/frac_unique': 1.0,\n 'sampling/frac_unique_non_iso': 1.0,\n 'sampling/frac_unic_non_iso_valid': 0.0,\n 'sampling/frac_non_iso': 1.0}"
     },
     "execution_count": 6,
     "metadata": {},
     "output_type": "execute_result"
    }
   ],
   "source": [
    "model.sampling_metrics.test_result(free)"
   ],
   "metadata": {
    "collapsed": false,
    "ExecuteTime": {
     "end_time": "2024-08-30T18:31:56.977728200Z",
     "start_time": "2024-08-30T18:31:51.488652800Z"
    }
   },
   "id": "bdda60d4eb255d87",
   "execution_count": 6
  },
  {
   "cell_type": "code",
   "outputs": [
    {
     "name": "stdout",
     "output_type": "stream",
     "text": [
      "Computing sampling metrics between 40 generated graphs and 40 test graphs -- emd computation: False\n",
      "Building networkx graphs...\n",
      "Computing degree stats..\n",
      "Computing spectre stats...\n",
      "Computing clustering stats...\n",
      "Computing orbit stats...\n",
      "Computing all fractions...\n",
      "Sampling statistics {'degree': 0.03720985483514694, 'spectre': 0.021724076549961335, 'clustering': 0.050009599175596366, 'orbit': 0.05001351894169413, 'sampling/frac_unique': 1.0, 'sampling/frac_unique_non_iso': 1.0, 'sampling/frac_unic_non_iso_valid': 0.0, 'sampling/frac_non_iso': 1.0}\n"
     ]
    },
    {
     "data": {
      "text/plain": "{'degree': 0.03720985483514694,\n 'spectre': 0.021724076549961335,\n 'clustering': 0.050009599175596366,\n 'orbit': 0.05001351894169413,\n 'sampling/frac_unique': 1.0,\n 'sampling/frac_unique_non_iso': 1.0,\n 'sampling/frac_unic_non_iso_valid': 0.0,\n 'sampling/frac_non_iso': 1.0}"
     },
     "execution_count": 7,
     "metadata": {},
     "output_type": "execute_result"
    }
   ],
   "source": [
    "model.sampling_metrics.test_result(watermark)"
   ],
   "metadata": {
    "collapsed": false,
    "ExecuteTime": {
     "end_time": "2024-08-30T18:32:28.916882700Z",
     "start_time": "2024-08-30T18:32:23.232625100Z"
    }
   },
   "id": "6389773a89af0263",
   "execution_count": 7
  },
  {
   "cell_type": "code",
   "outputs": [
    {
     "name": "stderr",
     "output_type": "stream",
     "text": [
      "100%|██████████| 40/40 [19:54<00:00, 29.86s/it]\n"
     ]
    }
   ],
   "source": [
    "detection_samples , states = model.sample_batch_simplified(\"watermark\", 40)"
   ],
   "metadata": {
    "collapsed": false,
    "ExecuteTime": {
     "end_time": "2024-08-30T18:55:16.225095400Z",
     "start_time": "2024-08-30T18:35:21.649613100Z"
    }
   },
   "id": "e21cfdba68ee462d",
   "execution_count": 8
  },
  {
   "cell_type": "code",
   "outputs": [
    {
     "data": {
      "text/plain": "['degree', 'clustering', 'orbit', 'spectre']"
     },
     "execution_count": 15,
     "metadata": {},
     "output_type": "execute_result"
    }
   ],
   "source": [],
   "metadata": {
    "collapsed": false,
    "ExecuteTime": {
     "end_time": "2024-08-30T18:22:47.263358100Z",
     "start_time": "2024-08-30T18:22:47.254735200Z"
    }
   },
   "id": "f3c15df3a414d59f",
   "execution_count": 15
  }
 ],
 "metadata": {
  "kernelspec": {
   "display_name": "Python 3",
   "language": "python",
   "name": "python3"
  },
  "language_info": {
   "codemirror_mode": {
    "name": "ipython",
    "version": 2
   },
   "file_extension": ".py",
   "mimetype": "text/x-python",
   "name": "python",
   "nbconvert_exporter": "python",
   "pygments_lexer": "ipython2",
   "version": "2.7.6"
  }
 },
 "nbformat": 4,
 "nbformat_minor": 5
}
